{
 "cells": [
  {
   "cell_type": "markdown",
   "metadata": {
    "id": "X89MDQDgM-Q2"
   },
   "source": [
    "# 8. LangGraph로 만드는 AI 에이전트\n",
    "## 대화형 그래프 실행"
   ]
  },
  {
   "cell_type": "code",
   "execution_count": 1,
   "metadata": {
    "colab": {
     "base_uri": "https://localhost:8080/"
    },
    "executionInfo": {
     "elapsed": 15836,
     "status": "ok",
     "timestamp": 1731801184649,
     "user": {
      "displayName": "Jaewoo Kim",
      "userId": "07743680365106049567"
     },
     "user_tz": -540
    },
    "id": "acc8YymCM9ed",
    "outputId": "aafc507b-0d19-4dcd-9180-7fbfc9b1147c"
   },
   "outputs": [
    {
     "name": "stdout",
     "output_type": "stream",
     "text": [
      "Collecting langchain==0.3.0\n",
      "  Using cached langchain-0.3.0-py3-none-any.whl.metadata (7.1 kB)\n",
      "Requirement already satisfied: langchain-openai==0.2.0 in c:\\users\\chltn\\appdata\\local\\programs\\python\\python312\\lib\\site-packages (0.2.0)\n",
      "Collecting langgraph==0.2.22\n",
      "  Downloading langgraph-0.2.22-py3-none-any.whl.metadata (13 kB)\n",
      "Requirement already satisfied: PyYAML>=5.3 in c:\\users\\chltn\\appdata\\roaming\\python\\python312\\site-packages (from langchain==0.3.0) (6.0.1)\n",
      "Requirement already satisfied: SQLAlchemy<3,>=1.4 in c:\\users\\chltn\\appdata\\roaming\\python\\python312\\site-packages (from langchain==0.3.0) (2.0.30)\n",
      "Requirement already satisfied: aiohttp<4.0.0,>=3.8.3 in c:\\users\\chltn\\appdata\\roaming\\python\\python312\\site-packages (from langchain==0.3.0) (3.9.5)\n",
      "Requirement already satisfied: langchain-core<0.4.0,>=0.3.0 in c:\\users\\chltn\\appdata\\local\\programs\\python\\python312\\lib\\site-packages (from langchain==0.3.0) (0.3.51)\n",
      "Requirement already satisfied: langchain-text-splitters<0.4.0,>=0.3.0 in c:\\users\\chltn\\appdata\\local\\programs\\python\\python312\\lib\\site-packages (from langchain==0.3.0) (0.3.8)\n",
      "Collecting langsmith<0.2.0,>=0.1.17 (from langchain==0.3.0)\n",
      "  Downloading langsmith-0.1.147-py3-none-any.whl.metadata (14 kB)\n",
      "Requirement already satisfied: numpy<2.0.0,>=1.26.0 in c:\\users\\chltn\\appdata\\local\\programs\\python\\python312\\lib\\site-packages (from langchain==0.3.0) (1.26.4)\n",
      "Requirement already satisfied: pydantic<3.0.0,>=2.7.4 in c:\\users\\chltn\\appdata\\local\\programs\\python\\python312\\lib\\site-packages (from langchain==0.3.0) (2.11.3)\n",
      "Requirement already satisfied: requests<3,>=2 in c:\\users\\chltn\\appdata\\local\\programs\\python\\python312\\lib\\site-packages (from langchain==0.3.0) (2.32.3)\n",
      "Requirement already satisfied: tenacity!=8.4.0,<9.0.0,>=8.1.0 in c:\\users\\chltn\\appdata\\roaming\\python\\python312\\site-packages (from langchain==0.3.0) (8.3.0)\n",
      "Requirement already satisfied: openai<2.0.0,>=1.40.0 in c:\\users\\chltn\\appdata\\local\\programs\\python\\python312\\lib\\site-packages (from langchain-openai==0.2.0) (1.46.0)\n",
      "Requirement already satisfied: tiktoken<1,>=0.7 in c:\\users\\chltn\\appdata\\roaming\\python\\python312\\site-packages (from langchain-openai==0.2.0) (0.7.0)\n",
      "Collecting langgraph-checkpoint<2.0.0,>=1.0.2 (from langgraph==0.2.22)\n",
      "  Downloading langgraph_checkpoint-1.0.12-py3-none-any.whl.metadata (4.6 kB)\n",
      "Requirement already satisfied: aiosignal>=1.1.2 in c:\\users\\chltn\\appdata\\roaming\\python\\python312\\site-packages (from aiohttp<4.0.0,>=3.8.3->langchain==0.3.0) (1.3.1)\n",
      "Requirement already satisfied: attrs>=17.3.0 in c:\\users\\chltn\\appdata\\local\\programs\\python\\python312\\lib\\site-packages (from aiohttp<4.0.0,>=3.8.3->langchain==0.3.0) (23.2.0)\n",
      "Requirement already satisfied: frozenlist>=1.1.1 in c:\\users\\chltn\\appdata\\roaming\\python\\python312\\site-packages (from aiohttp<4.0.0,>=3.8.3->langchain==0.3.0) (1.4.1)\n",
      "Requirement already satisfied: multidict<7.0,>=4.5 in c:\\users\\chltn\\appdata\\roaming\\python\\python312\\site-packages (from aiohttp<4.0.0,>=3.8.3->langchain==0.3.0) (6.0.5)\n",
      "Requirement already satisfied: yarl<2.0,>=1.0 in c:\\users\\chltn\\appdata\\roaming\\python\\python312\\site-packages (from aiohttp<4.0.0,>=3.8.3->langchain==0.3.0) (1.9.4)\n",
      "Requirement already satisfied: jsonpatch<2.0,>=1.33 in c:\\users\\chltn\\appdata\\roaming\\python\\python312\\site-packages (from langchain-core<0.4.0,>=0.3.0->langchain==0.3.0) (1.33)\n",
      "Requirement already satisfied: packaging<25,>=23.2 in c:\\users\\chltn\\appdata\\local\\programs\\python\\python312\\lib\\site-packages (from langchain-core<0.4.0,>=0.3.0->langchain==0.3.0) (24.0)\n",
      "Requirement already satisfied: typing-extensions>=4.7 in c:\\users\\chltn\\appdata\\local\\programs\\python\\python312\\lib\\site-packages (from langchain-core<0.4.0,>=0.3.0->langchain==0.3.0) (4.12.2)\n",
      "Collecting msgpack<2.0.0,>=1.1.0 (from langgraph-checkpoint<2.0.0,>=1.0.2->langgraph==0.2.22)\n",
      "  Downloading msgpack-1.1.0-cp312-cp312-win_amd64.whl.metadata (8.6 kB)\n",
      "Requirement already satisfied: httpx<1,>=0.23.0 in c:\\users\\chltn\\appdata\\roaming\\python\\python312\\site-packages (from langsmith<0.2.0,>=0.1.17->langchain==0.3.0) (0.27.0)\n",
      "Requirement already satisfied: orjson<4.0.0,>=3.9.14 in c:\\users\\chltn\\appdata\\roaming\\python\\python312\\site-packages (from langsmith<0.2.0,>=0.1.17->langchain==0.3.0) (3.10.5)\n",
      "Requirement already satisfied: requests-toolbelt<2.0.0,>=1.0.0 in c:\\users\\chltn\\appdata\\local\\programs\\python\\python312\\lib\\site-packages (from langsmith<0.2.0,>=0.1.17->langchain==0.3.0) (1.0.0)\n",
      "Requirement already satisfied: anyio<5,>=3.5.0 in c:\\users\\chltn\\appdata\\local\\programs\\python\\python312\\lib\\site-packages (from openai<2.0.0,>=1.40.0->langchain-openai==0.2.0) (3.7.1)\n",
      "Requirement already satisfied: distro<2,>=1.7.0 in c:\\users\\chltn\\appdata\\roaming\\python\\python312\\site-packages (from openai<2.0.0,>=1.40.0->langchain-openai==0.2.0) (1.9.0)\n",
      "Requirement already satisfied: jiter<1,>=0.4.0 in c:\\users\\chltn\\appdata\\local\\programs\\python\\python312\\lib\\site-packages (from openai<2.0.0,>=1.40.0->langchain-openai==0.2.0) (0.5.0)\n",
      "Requirement already satisfied: sniffio in c:\\users\\chltn\\appdata\\local\\programs\\python\\python312\\lib\\site-packages (from openai<2.0.0,>=1.40.0->langchain-openai==0.2.0) (1.3.1)\n",
      "Requirement already satisfied: tqdm>4 in c:\\users\\chltn\\appdata\\local\\programs\\python\\python312\\lib\\site-packages (from openai<2.0.0,>=1.40.0->langchain-openai==0.2.0) (4.66.4)\n",
      "Requirement already satisfied: annotated-types>=0.6.0 in c:\\users\\chltn\\appdata\\roaming\\python\\python312\\site-packages (from pydantic<3.0.0,>=2.7.4->langchain==0.3.0) (0.7.0)\n",
      "Requirement already satisfied: pydantic-core==2.33.1 in c:\\users\\chltn\\appdata\\local\\programs\\python\\python312\\lib\\site-packages (from pydantic<3.0.0,>=2.7.4->langchain==0.3.0) (2.33.1)\n",
      "Requirement already satisfied: typing-inspection>=0.4.0 in c:\\users\\chltn\\appdata\\local\\programs\\python\\python312\\lib\\site-packages (from pydantic<3.0.0,>=2.7.4->langchain==0.3.0) (0.4.0)\n",
      "Requirement already satisfied: charset-normalizer<4,>=2 in c:\\users\\chltn\\appdata\\local\\programs\\python\\python312\\lib\\site-packages (from requests<3,>=2->langchain==0.3.0) (3.3.2)\n",
      "Requirement already satisfied: idna<4,>=2.5 in c:\\users\\chltn\\appdata\\local\\programs\\python\\python312\\lib\\site-packages (from requests<3,>=2->langchain==0.3.0) (3.7)\n",
      "Requirement already satisfied: urllib3<3,>=1.21.1 in c:\\users\\chltn\\appdata\\local\\programs\\python\\python312\\lib\\site-packages (from requests<3,>=2->langchain==0.3.0) (2.2.1)\n",
      "Requirement already satisfied: certifi>=2017.4.17 in c:\\users\\chltn\\appdata\\local\\programs\\python\\python312\\lib\\site-packages (from requests<3,>=2->langchain==0.3.0) (2024.6.2)\n",
      "Requirement already satisfied: greenlet!=0.4.17 in c:\\users\\chltn\\appdata\\roaming\\python\\python312\\site-packages (from SQLAlchemy<3,>=1.4->langchain==0.3.0) (3.0.3)\n",
      "Requirement already satisfied: regex>=2022.1.18 in c:\\users\\chltn\\appdata\\roaming\\python\\python312\\site-packages (from tiktoken<1,>=0.7->langchain-openai==0.2.0) (2024.5.15)\n",
      "Requirement already satisfied: httpcore==1.* in c:\\users\\chltn\\appdata\\roaming\\python\\python312\\site-packages (from httpx<1,>=0.23.0->langsmith<0.2.0,>=0.1.17->langchain==0.3.0) (1.0.5)\n",
      "Requirement already satisfied: h11<0.15,>=0.13 in c:\\users\\chltn\\appdata\\local\\programs\\python\\python312\\lib\\site-packages (from httpcore==1.*->httpx<1,>=0.23.0->langsmith<0.2.0,>=0.1.17->langchain==0.3.0) (0.14.0)\n",
      "Requirement already satisfied: jsonpointer>=1.9 in c:\\users\\chltn\\appdata\\roaming\\python\\python312\\site-packages (from jsonpatch<2.0,>=1.33->langchain-core<0.4.0,>=0.3.0->langchain==0.3.0) (3.0.0)\n",
      "Requirement already satisfied: colorama in c:\\users\\chltn\\appdata\\local\\programs\\python\\python312\\lib\\site-packages (from tqdm>4->openai<2.0.0,>=1.40.0->langchain-openai==0.2.0) (0.4.6)\n",
      "Using cached langchain-0.3.0-py3-none-any.whl (1.0 MB)\n",
      "Downloading langgraph-0.2.22-py3-none-any.whl (98 kB)\n",
      "   ---------------------------------------- 0.0/98.5 kB ? eta -:--:--\n",
      "   ---------------------------------------- 98.5/98.5 kB 5.9 MB/s eta 0:00:00\n",
      "Downloading langgraph_checkpoint-1.0.12-py3-none-any.whl (17 kB)\n",
      "Downloading langsmith-0.1.147-py3-none-any.whl (311 kB)\n",
      "   ---------------------------------------- 0.0/311.8 kB ? eta -:--:--\n",
      "   --------------------------------------- 311.8/311.8 kB 18.8 MB/s eta 0:00:00\n",
      "Downloading msgpack-1.1.0-cp312-cp312-win_amd64.whl (75 kB)\n",
      "   ---------------------------------------- 0.0/75.3 kB ? eta -:--:--\n",
      "   ---------------------------------------- 75.3/75.3 kB ? eta 0:00:00\n",
      "Installing collected packages: msgpack, langsmith, langgraph-checkpoint, langgraph, langchain\n",
      "  Attempting uninstall: langsmith\n",
      "    Found existing installation: langsmith 0.3.30\n",
      "    Uninstalling langsmith-0.3.30:\n",
      "      Successfully uninstalled langsmith-0.3.30\n",
      "  Attempting uninstall: langchain\n",
      "    Found existing installation: langchain 0.3.23\n",
      "    Uninstalling langchain-0.3.23:\n",
      "      Successfully uninstalled langchain-0.3.23\n",
      "Successfully installed langchain-0.3.0 langgraph-0.2.22 langgraph-checkpoint-1.0.12 langsmith-0.1.147 msgpack-1.1.0\n"
     ]
    },
    {
     "name": "stderr",
     "output_type": "stream",
     "text": [
      "WARNING: Skipping C:\\Users\\chltn\\AppData\\Local\\Programs\\Python\\Python312\\Lib\\site-packages\\langchain-0.3.23.dist-info due to invalid metadata entry 'name'\n",
      "WARNING: Skipping C:\\Users\\chltn\\AppData\\Local\\Programs\\Python\\Python312\\Lib\\site-packages\\langchain-0.3.23.dist-info due to invalid metadata entry 'name'\n",
      "WARNING: Skipping C:\\Users\\chltn\\AppData\\Local\\Programs\\Python\\Python312\\Lib\\site-packages\\langchain-0.3.23.dist-info due to invalid metadata entry 'name'\n",
      "WARNING: Skipping C:\\Users\\chltn\\AppData\\Local\\Programs\\Python\\Python312\\Lib\\site-packages\\langchain-0.3.23.dist-info due to invalid metadata entry 'name'\n",
      "ERROR: pip's dependency resolver does not currently take into account all the packages that are installed. This behaviour is the source of the following dependency conflicts.\n",
      "embedchain 0.1.116 requires langchain-community<0.3.0,>=0.2.6, but you have langchain-community 0.3.0 which is incompatible.\n",
      "embedchain 0.1.116 requires langchain-openai<0.2.0,>=0.1.7, but you have langchain-openai 0.2.0 which is incompatible.\n",
      "langchain-experimental 0.0.63 requires langchain-community<0.3.0,>=0.2.6, but you have langchain-community 0.3.0 which is incompatible.\n",
      "langchain-experimental 0.0.63 requires langchain-core<0.3.0,>=0.2.10, but you have langchain-core 0.3.51 which is incompatible.\n",
      "langserve 0.2.2 requires langchain-core<0.3,>=0.1, but you have langchain-core 0.3.51 which is incompatible.\n",
      "ragchain 0.2.6 requires pydantic==1.10.13, but you have pydantic 2.11.3 which is incompatible.\n",
      "ragchain 0.2.6 requires python-dotenv==1.0.0, but you have python-dotenv 1.0.1 which is incompatible.\n",
      "WARNING: Skipping C:\\Users\\chltn\\AppData\\Local\\Programs\\Python\\Python312\\Lib\\site-packages\\langchain-0.3.23.dist-info due to invalid metadata entry 'name'\n",
      "WARNING: Skipping C:\\Users\\chltn\\AppData\\Local\\Programs\\Python\\Python312\\Lib\\site-packages\\langchain-0.3.23.dist-info due to invalid metadata entry 'name'\n",
      "\n",
      "[notice] A new release of pip is available: 24.1.2 -> 25.0.1\n",
      "[notice] To update, run: python.exe -m pip install --upgrade pip\n"
     ]
    }
   ],
   "source": [
    "!pip install langchain==0.3.0 langchain-openai==0.2.0 langgraph==0.2.22"
   ]
  },
  {
   "cell_type": "code",
   "execution_count": 2,
   "metadata": {},
   "outputs": [
    {
     "name": "stdout",
     "output_type": "stream",
     "text": [
      "Collecting langgraph\n",
      "  Downloading langgraph-0.3.30-py3-none-any.whl.metadata (7.7 kB)\n",
      "Requirement already satisfied: langchain-core<0.4,>=0.1 in c:\\users\\chltn\\appdata\\roaming\\python\\python311\\site-packages (from langgraph) (0.2.7)\n",
      "Collecting langgraph-checkpoint<3.0.0,>=2.0.10 (from langgraph)\n",
      "  Downloading langgraph_checkpoint-2.0.24-py3-none-any.whl.metadata (4.6 kB)\n",
      "Collecting langgraph-prebuilt<0.2,>=0.1.1 (from langgraph)\n",
      "  Downloading langgraph_prebuilt-0.1.8-py3-none-any.whl.metadata (5.0 kB)\n",
      "Collecting langgraph-sdk<0.2.0,>=0.1.42 (from langgraph)\n",
      "  Downloading langgraph_sdk-0.1.61-py3-none-any.whl.metadata (1.8 kB)\n",
      "Collecting xxhash<4.0.0,>=3.5.0 (from langgraph)\n",
      "  Downloading xxhash-3.5.0-cp311-cp311-win_amd64.whl.metadata (13 kB)\n",
      "Requirement already satisfied: PyYAML>=5.3 in c:\\users\\chltn\\anaconda3\\lib\\site-packages (from langchain-core<0.4,>=0.1->langgraph) (6.0.1)\n",
      "Requirement already satisfied: jsonpatch<2.0,>=1.33 in c:\\users\\chltn\\appdata\\roaming\\python\\python311\\site-packages (from langchain-core<0.4,>=0.1->langgraph) (1.33)\n",
      "Requirement already satisfied: langsmith<0.2.0,>=0.1.75 in c:\\users\\chltn\\appdata\\roaming\\python\\python311\\site-packages (from langchain-core<0.4,>=0.1->langgraph) (0.1.77)\n",
      "Requirement already satisfied: packaging<25,>=23.2 in c:\\users\\chltn\\appdata\\roaming\\python\\python311\\site-packages (from langchain-core<0.4,>=0.1->langgraph) (24.1)\n",
      "Requirement already satisfied: pydantic<3,>=1 in c:\\users\\chltn\\anaconda3\\lib\\site-packages (from langchain-core<0.4,>=0.1->langgraph) (2.5.3)\n",
      "Requirement already satisfied: tenacity<9.0.0,>=8.1.0 in c:\\users\\chltn\\anaconda3\\lib\\site-packages (from langchain-core<0.4,>=0.1->langgraph) (8.2.2)\n",
      "Collecting langchain-core<0.4,>=0.1 (from langgraph)\n",
      "  Downloading langchain_core-0.3.52-py3-none-any.whl.metadata (5.9 kB)\n",
      "Collecting ormsgpack<2.0.0,>=1.8.0 (from langgraph-checkpoint<3.0.0,>=2.0.10->langgraph)\n",
      "  Downloading ormsgpack-1.9.1-cp311-cp311-win_amd64.whl.metadata (44 kB)\n",
      "     ---------------------------------------- 0.0/44.4 kB ? eta -:--:--\n",
      "     ---------------------------------------- 44.4/44.4 kB ? eta 0:00:00\n",
      "Collecting langsmith<0.4,>=0.1.125 (from langchain-core<0.4,>=0.1->langgraph)\n",
      "  Downloading langsmith-0.3.31-py3-none-any.whl.metadata (15 kB)\n",
      "Requirement already satisfied: typing-extensions>=4.7 in c:\\users\\chltn\\anaconda3\\lib\\site-packages (from langchain-core<0.4,>=0.1->langgraph) (4.11.0)\n",
      "Requirement already satisfied: httpx>=0.25.2 in c:\\users\\chltn\\appdata\\roaming\\python\\python311\\site-packages (from langgraph-sdk<0.2.0,>=0.1.42->langgraph) (0.27.0)\n",
      "Requirement already satisfied: orjson>=3.10.1 in c:\\users\\chltn\\appdata\\roaming\\python\\python311\\site-packages (from langgraph-sdk<0.2.0,>=0.1.42->langgraph) (3.10.5)\n",
      "Requirement already satisfied: anyio in c:\\users\\chltn\\anaconda3\\lib\\site-packages (from httpx>=0.25.2->langgraph-sdk<0.2.0,>=0.1.42->langgraph) (4.2.0)\n",
      "Requirement already satisfied: certifi in c:\\users\\chltn\\anaconda3\\lib\\site-packages (from httpx>=0.25.2->langgraph-sdk<0.2.0,>=0.1.42->langgraph) (2024.6.2)\n",
      "Requirement already satisfied: httpcore==1.* in c:\\users\\chltn\\appdata\\roaming\\python\\python311\\site-packages (from httpx>=0.25.2->langgraph-sdk<0.2.0,>=0.1.42->langgraph) (1.0.5)\n",
      "Requirement already satisfied: idna in c:\\users\\chltn\\anaconda3\\lib\\site-packages (from httpx>=0.25.2->langgraph-sdk<0.2.0,>=0.1.42->langgraph) (3.7)\n",
      "Requirement already satisfied: sniffio in c:\\users\\chltn\\anaconda3\\lib\\site-packages (from httpx>=0.25.2->langgraph-sdk<0.2.0,>=0.1.42->langgraph) (1.3.0)\n",
      "Requirement already satisfied: h11<0.15,>=0.13 in c:\\users\\chltn\\appdata\\roaming\\python\\python311\\site-packages (from httpcore==1.*->httpx>=0.25.2->langgraph-sdk<0.2.0,>=0.1.42->langgraph) (0.14.0)\n",
      "Requirement already satisfied: jsonpointer>=1.9 in c:\\users\\chltn\\anaconda3\\lib\\site-packages (from jsonpatch<2.0,>=1.33->langchain-core<0.4,>=0.1->langgraph) (2.1)\n",
      "Requirement already satisfied: requests<3,>=2 in c:\\users\\chltn\\anaconda3\\lib\\site-packages (from langsmith<0.4,>=0.1.125->langchain-core<0.4,>=0.1->langgraph) (2.32.2)\n",
      "Requirement already satisfied: requests-toolbelt<2.0.0,>=1.0.0 in c:\\users\\chltn\\anaconda3\\lib\\site-packages (from langsmith<0.4,>=0.1.125->langchain-core<0.4,>=0.1->langgraph) (1.0.0)\n",
      "Collecting zstandard<0.24.0,>=0.23.0 (from langsmith<0.4,>=0.1.125->langchain-core<0.4,>=0.1->langgraph)\n",
      "  Downloading zstandard-0.23.0-cp311-cp311-win_amd64.whl.metadata (3.0 kB)\n",
      "Requirement already satisfied: annotated-types>=0.4.0 in c:\\users\\chltn\\anaconda3\\lib\\site-packages (from pydantic<3,>=1->langchain-core<0.4,>=0.1->langgraph) (0.6.0)\n",
      "Requirement already satisfied: pydantic-core==2.14.6 in c:\\users\\chltn\\anaconda3\\lib\\site-packages (from pydantic<3,>=1->langchain-core<0.4,>=0.1->langgraph) (2.14.6)\n",
      "Requirement already satisfied: charset-normalizer<4,>=2 in c:\\users\\chltn\\anaconda3\\lib\\site-packages (from requests<3,>=2->langsmith<0.4,>=0.1.125->langchain-core<0.4,>=0.1->langgraph) (2.0.4)\n",
      "Requirement already satisfied: urllib3<3,>=1.21.1 in c:\\users\\chltn\\anaconda3\\lib\\site-packages (from requests<3,>=2->langsmith<0.4,>=0.1.125->langchain-core<0.4,>=0.1->langgraph) (2.2.2)\n",
      "Downloading langgraph-0.3.30-py3-none-any.whl (144 kB)\n",
      "   ---------------------------------------- 0.0/145.0 kB ? eta -:--:--\n",
      "   ---------------------------------------- 145.0/145.0 kB 9.0 MB/s eta 0:00:00\n",
      "Downloading langgraph_checkpoint-2.0.24-py3-none-any.whl (42 kB)\n",
      "   ---------------------------------------- 0.0/42.0 kB ? eta -:--:--\n",
      "   ---------------------------------------- 42.0/42.0 kB 2.0 MB/s eta 0:00:00\n",
      "Downloading langchain_core-0.3.52-py3-none-any.whl (433 kB)\n",
      "   ---------------------------------------- 0.0/433.6 kB ? eta -:--:--\n",
      "   --------------------------------------- 433.6/433.6 kB 13.2 MB/s eta 0:00:00\n",
      "Downloading langgraph_prebuilt-0.1.8-py3-none-any.whl (25 kB)\n",
      "Downloading langgraph_sdk-0.1.61-py3-none-any.whl (47 kB)\n",
      "   ---------------------------------------- 0.0/47.2 kB ? eta -:--:--\n",
      "   ---------------------------------------- 47.2/47.2 kB ? eta 0:00:00\n",
      "Downloading xxhash-3.5.0-cp311-cp311-win_amd64.whl (30 kB)\n",
      "Downloading langsmith-0.3.31-py3-none-any.whl (358 kB)\n",
      "   ---------------------------------------- 0.0/358.3 kB ? eta -:--:--\n",
      "   ----------------------------------- ---- 317.4/358.3 kB 6.5 MB/s eta 0:00:01\n",
      "   ---------------------------------------- 358.3/358.3 kB 7.4 MB/s eta 0:00:00\n",
      "Downloading ormsgpack-1.9.1-cp311-cp311-win_amd64.whl (125 kB)\n",
      "   ---------------------------------------- 0.0/125.1 kB ? eta -:--:--\n",
      "   ---------------------------------------- 125.1/125.1 kB ? eta 0:00:00\n",
      "Downloading zstandard-0.23.0-cp311-cp311-win_amd64.whl (495 kB)\n",
      "   ---------------------------------------- 0.0/495.4 kB ? eta -:--:--\n",
      "   --------------------------------------- 495.4/495.4 kB 15.2 MB/s eta 0:00:00\n",
      "Installing collected packages: zstandard, xxhash, ormsgpack, langsmith, langgraph-sdk, langchain-core, langgraph-checkpoint, langgraph-prebuilt, langgraph\n",
      "  Attempting uninstall: zstandard\n",
      "    Found existing installation: zstandard 0.22.0\n",
      "    Uninstalling zstandard-0.22.0:\n",
      "      Successfully uninstalled zstandard-0.22.0\n",
      "  Attempting uninstall: langsmith\n",
      "    Found existing installation: langsmith 0.1.77\n",
      "    Uninstalling langsmith-0.1.77:\n",
      "      Successfully uninstalled langsmith-0.1.77\n",
      "  Attempting uninstall: langchain-core\n",
      "    Found existing installation: langchain-core 0.2.7\n",
      "    Uninstalling langchain-core-0.2.7:\n",
      "      Successfully uninstalled langchain-core-0.2.7\n",
      "Successfully installed langchain-core-0.3.52 langgraph-0.3.30 langgraph-checkpoint-2.0.24 langgraph-prebuilt-0.1.8 langgraph-sdk-0.1.61 langsmith-0.3.31 ormsgpack-1.9.1 xxhash-3.5.0 zstandard-0.23.0\n",
      "Note: you may need to restart the kernel to use updated packages.\n"
     ]
    },
    {
     "name": "stderr",
     "output_type": "stream",
     "text": [
      "ERROR: pip's dependency resolver does not currently take into account all the packages that are installed. This behaviour is the source of the following dependency conflicts.\n",
      "langchain 0.2.5 requires langchain-core<0.3.0,>=0.2.7, but you have langchain-core 0.3.52 which is incompatible.\n",
      "langchain 0.2.5 requires langsmith<0.2.0,>=0.1.17, but you have langsmith 0.3.31 which is incompatible.\n",
      "langchain-community 0.2.5 requires langchain-core<0.3.0,>=0.2.7, but you have langchain-core 0.3.52 which is incompatible.\n",
      "langchain-community 0.2.5 requires langsmith<0.2.0,>=0.1.0, but you have langsmith 0.3.31 which is incompatible.\n",
      "langchain-openai 0.1.8 requires langchain-core<0.3,>=0.2.2, but you have langchain-core 0.3.52 which is incompatible.\n",
      "langchain-text-splitters 0.2.1 requires langchain-core<0.3.0,>=0.2.0, but you have langchain-core 0.3.52 which is incompatible.\n"
     ]
    }
   ],
   "source": [
    "pip install langgraph"
   ]
  },
  {
   "cell_type": "code",
   "execution_count": 4,
   "metadata": {
    "executionInfo": {
     "elapsed": 7058,
     "status": "ok",
     "timestamp": 1731801419721,
     "user": {
      "displayName": "Jaewoo Kim",
      "userId": "07743680365106049567"
     },
     "user_tz": -540
    },
    "id": "CjdILAvXNLZm"
   },
   "outputs": [
    {
     "name": "stdout",
     "output_type": "stream",
     "text": [
      "Requirement already satisfied: python-dotenv in c:\\users\\chltn\\anaconda3\\lib\\site-packages (0.21.0)\n",
      "Requirement already satisfied: langchain_openai in c:\\users\\chltn\\appdata\\roaming\\python\\python311\\site-packages (0.1.8)\n",
      "Collecting langchain-core<0.3,>=0.2.2 (from langchain_openai)\n",
      "  Using cached langchain_core-0.2.43-py3-none-any.whl.metadata (6.2 kB)\n",
      "Requirement already satisfied: openai<2.0.0,>=1.26.0 in c:\\users\\chltn\\appdata\\roaming\\python\\python311\\site-packages (from langchain_openai) (1.34.0)\n",
      "Requirement already satisfied: tiktoken<1,>=0.7 in c:\\users\\chltn\\appdata\\roaming\\python\\python311\\site-packages (from langchain_openai) (0.7.0)\n",
      "Requirement already satisfied: PyYAML>=5.3 in c:\\users\\chltn\\anaconda3\\lib\\site-packages (from langchain-core<0.3,>=0.2.2->langchain_openai) (6.0.1)\n",
      "Requirement already satisfied: jsonpatch<2.0,>=1.33 in c:\\users\\chltn\\appdata\\roaming\\python\\python311\\site-packages (from langchain-core<0.3,>=0.2.2->langchain_openai) (1.33)\n",
      "Collecting langsmith<0.2.0,>=0.1.112 (from langchain-core<0.3,>=0.2.2->langchain_openai)\n",
      "  Using cached langsmith-0.1.147-py3-none-any.whl.metadata (14 kB)\n",
      "Requirement already satisfied: packaging<25,>=23.2 in c:\\users\\chltn\\appdata\\roaming\\python\\python311\\site-packages (from langchain-core<0.3,>=0.2.2->langchain_openai) (24.1)\n",
      "Requirement already satisfied: pydantic<3,>=1 in c:\\users\\chltn\\anaconda3\\lib\\site-packages (from langchain-core<0.3,>=0.2.2->langchain_openai) (2.5.3)\n",
      "Requirement already satisfied: tenacity!=8.4.0,<9.0.0,>=8.1.0 in c:\\users\\chltn\\anaconda3\\lib\\site-packages (from langchain-core<0.3,>=0.2.2->langchain_openai) (8.2.2)\n",
      "Requirement already satisfied: typing-extensions>=4.7 in c:\\users\\chltn\\anaconda3\\lib\\site-packages (from langchain-core<0.3,>=0.2.2->langchain_openai) (4.11.0)\n",
      "Requirement already satisfied: anyio<5,>=3.5.0 in c:\\users\\chltn\\anaconda3\\lib\\site-packages (from openai<2.0.0,>=1.26.0->langchain_openai) (4.2.0)\n",
      "Requirement already satisfied: distro<2,>=1.7.0 in c:\\users\\chltn\\anaconda3\\lib\\site-packages (from openai<2.0.0,>=1.26.0->langchain_openai) (1.9.0)\n",
      "Requirement already satisfied: httpx<1,>=0.23.0 in c:\\users\\chltn\\appdata\\roaming\\python\\python311\\site-packages (from openai<2.0.0,>=1.26.0->langchain_openai) (0.27.0)\n",
      "Requirement already satisfied: sniffio in c:\\users\\chltn\\anaconda3\\lib\\site-packages (from openai<2.0.0,>=1.26.0->langchain_openai) (1.3.0)\n",
      "Requirement already satisfied: tqdm>4 in c:\\users\\chltn\\anaconda3\\lib\\site-packages (from openai<2.0.0,>=1.26.0->langchain_openai) (4.66.4)\n",
      "Requirement already satisfied: regex>=2022.1.18 in c:\\users\\chltn\\anaconda3\\lib\\site-packages (from tiktoken<1,>=0.7->langchain_openai) (2023.10.3)\n",
      "Requirement already satisfied: requests>=2.26.0 in c:\\users\\chltn\\anaconda3\\lib\\site-packages (from tiktoken<1,>=0.7->langchain_openai) (2.32.2)\n",
      "Requirement already satisfied: idna>=2.8 in c:\\users\\chltn\\anaconda3\\lib\\site-packages (from anyio<5,>=3.5.0->openai<2.0.0,>=1.26.0->langchain_openai) (3.7)\n",
      "Requirement already satisfied: certifi in c:\\users\\chltn\\anaconda3\\lib\\site-packages (from httpx<1,>=0.23.0->openai<2.0.0,>=1.26.0->langchain_openai) (2024.6.2)\n",
      "Requirement already satisfied: httpcore==1.* in c:\\users\\chltn\\appdata\\roaming\\python\\python311\\site-packages (from httpx<1,>=0.23.0->openai<2.0.0,>=1.26.0->langchain_openai) (1.0.5)\n",
      "Requirement already satisfied: h11<0.15,>=0.13 in c:\\users\\chltn\\appdata\\roaming\\python\\python311\\site-packages (from httpcore==1.*->httpx<1,>=0.23.0->openai<2.0.0,>=1.26.0->langchain_openai) (0.14.0)\n",
      "Requirement already satisfied: jsonpointer>=1.9 in c:\\users\\chltn\\anaconda3\\lib\\site-packages (from jsonpatch<2.0,>=1.33->langchain-core<0.3,>=0.2.2->langchain_openai) (2.1)\n",
      "Requirement already satisfied: orjson<4.0.0,>=3.9.14 in c:\\users\\chltn\\appdata\\roaming\\python\\python311\\site-packages (from langsmith<0.2.0,>=0.1.112->langchain-core<0.3,>=0.2.2->langchain_openai) (3.10.5)\n",
      "Requirement already satisfied: requests-toolbelt<2.0.0,>=1.0.0 in c:\\users\\chltn\\anaconda3\\lib\\site-packages (from langsmith<0.2.0,>=0.1.112->langchain-core<0.3,>=0.2.2->langchain_openai) (1.0.0)\n",
      "Requirement already satisfied: annotated-types>=0.4.0 in c:\\users\\chltn\\anaconda3\\lib\\site-packages (from pydantic<3,>=1->langchain-core<0.3,>=0.2.2->langchain_openai) (0.6.0)\n",
      "Requirement already satisfied: pydantic-core==2.14.6 in c:\\users\\chltn\\anaconda3\\lib\\site-packages (from pydantic<3,>=1->langchain-core<0.3,>=0.2.2->langchain_openai) (2.14.6)\n",
      "Requirement already satisfied: charset-normalizer<4,>=2 in c:\\users\\chltn\\anaconda3\\lib\\site-packages (from requests>=2.26.0->tiktoken<1,>=0.7->langchain_openai) (2.0.4)\n",
      "Requirement already satisfied: urllib3<3,>=1.21.1 in c:\\users\\chltn\\anaconda3\\lib\\site-packages (from requests>=2.26.0->tiktoken<1,>=0.7->langchain_openai) (2.2.2)\n",
      "Requirement already satisfied: colorama in c:\\users\\chltn\\anaconda3\\lib\\site-packages (from tqdm>4->openai<2.0.0,>=1.26.0->langchain_openai) (0.4.6)\n",
      "Using cached langchain_core-0.2.43-py3-none-any.whl (397 kB)\n",
      "Using cached langsmith-0.1.147-py3-none-any.whl (311 kB)\n",
      "Installing collected packages: langsmith, langchain-core\n",
      "  Attempting uninstall: langsmith\n",
      "    Found existing installation: langsmith 0.3.31\n",
      "    Uninstalling langsmith-0.3.31:\n",
      "      Successfully uninstalled langsmith-0.3.31\n",
      "  Attempting uninstall: langchain-core\n",
      "    Found existing installation: langchain-core 0.3.52\n",
      "    Uninstalling langchain-core-0.3.52:\n",
      "      Successfully uninstalled langchain-core-0.3.52\n",
      "Successfully installed langchain-core-0.2.43 langsmith-0.1.147\n",
      "Note: you may need to restart the kernel to use updated packages.\n"
     ]
    }
   ],
   "source": [
    "pip install python-dotenv langchain_openai"
   ]
  },
  {
   "cell_type": "code",
   "execution_count": 1,
   "metadata": {},
   "outputs": [
    {
     "name": "stderr",
     "output_type": "stream",
     "text": [
      "C:\\Users\\chltn\\AppData\\Local\\Temp\\ipykernel_24612\\2434043449.py:8: LangChainDeprecationWarning: The class `ChatOpenAI` was deprecated in LangChain 0.0.10 and will be removed in 0.3.0. An updated version of the class exists in the langchain-openai package and should be used instead. To use it run `pip install -U langchain-openai` and import as `from langchain_openai import ChatOpenAI`.\n",
      "  gpt4o_mini = ChatOpenAI(\n"
     ]
    }
   ],
   "source": [
    "from dotenv import load_dotenv\n",
    "from langchain.chat_models import ChatOpenAI\n",
    "\n",
    "# .env 파일에서 환경 변수 로드\n",
    "load_dotenv()\n",
    "\n",
    "# GPT-4o-mini 설정\n",
    "gpt4o_mini = ChatOpenAI(\n",
    "    model_name=\"gpt-4o-mini\",  # GPT-4o-mini에 해당하는 모델명\n",
    "    temperature=0.7,\n",
    "    max_tokens=150,\n",
    ")\n",
    "\n",
    "# GPT-4o 설정\n",
    "gpt4o = ChatOpenAI(\n",
    "    model_name=\"gpt-4o\",  # GPT-4o에 해당하는 모델명\n",
    "    temperature=0.7,\n",
    "    max_tokens=300,\n",
    ")"
   ]
  },
  {
   "cell_type": "code",
   "execution_count": 2,
   "metadata": {},
   "outputs": [
    {
     "name": "stdout",
     "output_type": "stream",
     "text": [
      "Hello! I'm just a program, so I don't have feelings, but I'm here and ready to help you. How can I assist you today?\n",
      "Machine learning is a subset of artificial intelligence (AI) that focuses on the development of algorithms and statistical models that enable computers to perform tasks without being explicitly programmed to do so. Instead of relying on hard-coded rules, machine learning systems learn from data to make predictions or decisions. Here are some key aspects of the concept:\n",
      "\n",
      "1. **Data-Driven**: Machine learning models are trained on large datasets. The quality and quantity of this data significantly impact the model's performance. The more relevant data the model is exposed to, the better it can learn patterns and make accurate predictions.\n",
      "\n",
      "2. **Algorithms**: Machine learning uses various algorithms to identify patterns or structures in data. These algorithms can be categorized into different types:\n",
      "   - **Supervised Learning**: The model is trained on a labeled dataset, meaning the input data is paired with the correct output. The goal is for the model to learn the mapping from inputs to outputs. Examples include classification and regression.\n",
      "   - **Unsupervised Learning**: The model works with unlabeled data and tries to find hidden patterns or intrinsic structures in the input data. Clustering and association are common types of unsupervised learning.\n",
      "   - **Semi-Supervised Learning**: Combines a small amount of labeled data with a large amount of unlabeled data during training. It aims to improve learning efficiency.\n",
      "   - **Reinforcement Learning**: The model learns by interacting with an environment, receiving feedback in terms of rewards or penalties, and\n"
     ]
    }
   ],
   "source": [
    "from langchain.schema import HumanMessage\n",
    "\n",
    "# GPT-4o-mini 사용\n",
    "response_mini = gpt4o_mini.invoke([HumanMessage(content=\"Hello, how are you?\")])\n",
    "print(response_mini.content)\n",
    "\n",
    "# GPT-4o 사용\n",
    "response_full = gpt4o.invoke([HumanMessage(content=\"Explain the concept of machine learning.\")])\n",
    "print(response_full.content)"
   ]
  },
  {
   "cell_type": "markdown",
   "metadata": {},
   "source": [
    "## Langgraph 를 이용한 챗봇 만들기"
   ]
  },
  {
   "cell_type": "code",
   "execution_count": null,
   "metadata": {},
   "outputs": [
    {
     "data": {
      "image/jpeg": "[encoded data removed]",
      "text/plain": [
       "<IPython.core.display.Image object>"
      ]
     },
     "metadata": {},
     "output_type": "display_data"
    },
    {
     "name": "stdout",
     "output_type": "stream",
     "text": [
      "챗봇과 대화를 시작합니다. 종료하려면 'exit'를 입력하세요.\n",
      "Bot: Bot: Hello! How can I assist you today?\n",
      "Hello! How can I assist you today?\n",
      "Bot: Bot: Hello! How can I assist you today?\n",
      "Hello! How can I assist you today?\n",
      "Bot: Bot: 안녕하세요! 어떻게 도와드릴까요?\n",
      "안녕하세요! 어떻게 도와드릴까요?\n",
      "Bot: Bot: LangGraph는 자연어 처리(NLP)와 관련된 그래프 기반의 모델이나 프레임워크를 지칭하는 용어일 수 있습니다. 그러나 \"LangGraph\"라는 특정한 이름의 프로젝트나 기술에 대한 정보는 제가 알고 있는 데이터에는 포함되어 있지 않습니다. \n",
      "\n",
      "일반적으로, 자연어 처리 분야에서 그래프 기반 접근 방식은 단어, 문장, 또는 문서 간의 관계를 시각화하고 분석하는 데 사용됩니다. 이러한 그래프는 의미론적 관계, 구문 구조, 또는 문맥적 관계를 나타낼 수 있습니다. \n",
      "\n",
      "만약 LangGraph가 특정한 프로젝트나 연구를 의미한다면, 그에 대한 구체적인 정보나 문맥을 제공해 주시면 더 자세한 설명을 드릴 수 있을 것입니다.\n",
      "LangGraph는 자연어 처리(NLP)와 관련된 그래프 기반의 모델이나 프레임워크를 지칭하는 용어일 수 있습니다. 그러나 \"LangGraph\"라는 특정한 이름의 프로젝트나 기술에 대한 정보는 제가 알고 있는 데이터에는 포함되어 있지 않습니다. \n",
      "\n",
      "일반적으로, 자연어 처리 분야에서 그래프 기반 접근 방식은 단어, 문장, 또는 문서 간의 관계를 시각화하고 분석하는 데 사용됩니다. 이러한 그래프는 의미론적 관계, 구문 구조, 또는 문맥적 관계를 나타낼 수 있습니다. \n",
      "\n",
      "만약 LangGraph가 특정한 프로젝트나 연구를 의미한다면, 그에 대한 구체적인 정보나 문맥을 제공해 주시면 더 자세한 설명을 드릴 수 있을 것입니다.\n"
     ]
    }
   ],
   "source": [
    "from typing import Annotated, TypedDict\n",
    "from langgraph.graph import StateGraph, START, END\n",
    "from langgraph.graph.message import add_messages\n",
    "from langchain_openai import ChatOpenAI\n",
    "from langchain_teddynote.graphs import visualize_graph\n",
    "\n",
    "\n",
    "###### STEP 1. 상태(State) 정의 ######\n",
    "class State(TypedDict):\n",
    "    # 메시지 정의(list type 이며 add_messages 함수를 사용하여 메시지를 추가)\n",
    "    messages: Annotated[list, add_messages]\n",
    "\n",
    "\n",
    "###### STEP 2. 노드(Node) 정의 ######\n",
    "# LLM 정의\n",
    "llm = ChatOpenAI(model=\"gpt-4o-mini\", temperature=0)\n",
    "\n",
    "\n",
    "# 챗봇 함수 정의\n",
    "def chatbot(state: State):\n",
    "    # 메시지 호출 및 반환\n",
    "    return {\"messages\": [llm.invoke(state[\"messages\"])]}\n",
    "\n",
    "\n",
    "###### STEP 3. 그래프(Graph) 정의, 노드 추가 ######\n",
    "# 그래프 생성\n",
    "graph_builder = StateGraph(State)\n",
    "\n",
    "# 노드 이름, 함수 혹은 callable 객체를 인자로 받아 노드를 추가\n",
    "graph_builder.add_node(\"chatbot\", chatbot)\n",
    "\n",
    "###### STEP 4. 그래프 엣지(Edge) 추가 ######\n",
    "# 시작 노드에서 챗봇 노드로의 엣지 추가\n",
    "graph_builder.add_edge(START, \"chatbot\")\n",
    "\n",
    "# 그래프에 엣지 추가\n",
    "graph_builder.add_edge(\"chatbot\", END)\n",
    "\n",
    "###### STEP 5. 그래프 컴파일(compile) ######\n",
    "# 그래프 컴파일\n",
    "graph = graph_builder.compile()\n",
    "\n",
    "###### STEP 6. 그래프 시각화 ######\n",
    "# 그래프 시각화\n",
    "visualize_graph(graph)\n",
    "\n",
    "###### STEP 7. 대화형 그래프 실행 ######\n",
    "print(\"챗봇과 대화를 시작합니다. 종료하려면 'exit'를 입력하세요.\")\n",
    "\n",
    "while True:\n",
    "    # 사용자 입력 받기\n",
    "    question = input(\"You: \")\n",
    "    if question.lower() == \"exit\":\n",
    "        print(\"대화를 종료합니다.\")\n",
    "        break\n",
    "\n",
    "    # 그래프 이벤트 스트리밍\n",
    "    print(\"Bot:\", end=\" \")\n",
    "    for event in graph.stream({\"messages\": [(\"user\", question)]}):\n",
    "        for value in event.values():\n",
    "            print(value[\"messages\"][-1].content, end=\"\")\n",
    "    print()  # 줄바꿈\n"
   ]
  },
  {
   "cell_type": "code",
   "execution_count": null,
   "metadata": {},
   "outputs": [],
   "source": []
  }
 ],
 "metadata": {
  "colab": {
   "authorship_tag": "ABX9TyNk+J4cmSJdC+HGkI5NBXJs",
   "provenance": []
  },
  "kernelspec": {
   "display_name": "langgraph_env",
   "language": "python",
   "name": "langgraph_env"
  },
  "language_info": {
   "codemirror_mode": {
    "name": "ipython",
    "version": 3
   },
   "file_extension": ".py",
   "mimetype": "text/x-python",
   "name": "python",
   "nbconvert_exporter": "python",
   "pygments_lexer": "ipython3",
   "version": "3.11.0"
  }
 },
 "nbformat": 4,
 "nbformat_minor": 0
}
